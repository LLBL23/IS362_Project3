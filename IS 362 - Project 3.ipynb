{
 "cells": [
  {
   "cell_type": "markdown",
   "id": "32199d3c",
   "metadata": {},
   "source": [
    "# IS 362 - Project 3\n",
    "\n",
    "## Objective\n",
    "The objective of this project is to combine information from a number of SQL tables, then display it in a pandas DataFrame."
   ]
  },
  {
   "cell_type": "markdown",
   "id": "3a0251e8",
   "metadata": {},
   "source": [
    "First I installed the \"mysql-connector-python\" package to connect MySQL."
   ]
  },
  {
   "cell_type": "code",
   "execution_count": 3,
   "id": "c0315cec",
   "metadata": {},
   "outputs": [
    {
     "name": "stdout",
     "output_type": "stream",
     "text": [
      "Defaulting to user installation because normal site-packages is not writeable\n",
      "Requirement already satisfied: mysql-connector-python in /home/lb24370531/.local/lib/python3.8/site-packages (9.0.0)\n",
      "Note: you may need to restart the kernel to use updated packages.\n"
     ]
    }
   ],
   "source": [
    "pip install mysql-connector-python"
   ]
  },
  {
   "cell_type": "markdown",
   "id": "bf85fb50",
   "metadata": {},
   "source": [
    "Next I imported the MySQL connector and pandas."
   ]
  },
  {
   "cell_type": "code",
   "execution_count": 4,
   "id": "7cb6f39e",
   "metadata": {},
   "outputs": [],
   "source": [
    "from mysql import connector\n",
    "import pandas as pd"
   ]
  },
  {
   "cell_type": "markdown",
   "id": "a8a23904",
   "metadata": {},
   "source": [
    "Then I established a connection to the database in MySQL."
   ]
  },
  {
   "cell_type": "code",
   "execution_count": 5,
   "id": "cb7de770",
   "metadata": {},
   "outputs": [],
   "source": [
    "# establish connection\n",
    "connection = connector.connect(host=\"localhost\", database = 'Chinook',user=\"root\", passwd=\"cUny$p$_7\")\n",
    "    #query = \"Select * from studentdetails;\"\n",
    "    #result_dataFrame = pd.read_sql(query,mydb)\n",
    "    #mydb.close() #close the connection"
   ]
  },
  {
   "cell_type": "markdown",
   "id": "6684f5d3",
   "metadata": {},
   "source": [
    "After establishing a connection I wrote a SQL query to obtain the required information (i.e., Customer's Last Name, First Name, each customer's purchased Track names and Album Titles sorted by Customer LastName then Customer FirstName)."
   ]
  },
  {
   "cell_type": "code",
   "execution_count": 6,
   "id": "c6cd144b",
   "metadata": {},
   "outputs": [],
   "source": [
    "query = \"\"\"select c.LastName, c.FirstName, t.Name, a.Title\n",
    "FROM Customer c\n",
    "INNER JOIN Invoice i on c.CustomerId = i.CustomerId\n",
    "INNER JOIN InvoiceLine il on i.InvoiceId = il.InvoiceId\n",
    "INNER JOIN Track t on il.TrackId = t.TrackId\n",
    "INNER JOIN Album a on t.AlbumId = a.AlbumId\n",
    "ORDER BY c.LastName, c.FirstName\"\"\""
   ]
  },
  {
   "cell_type": "markdown",
   "id": "51743698",
   "metadata": {},
   "source": [
    "Lastly, I created a pandas DataFrame to display the information."
   ]
  },
  {
   "cell_type": "code",
   "execution_count": 7,
   "id": "0453c81e",
   "metadata": {},
   "outputs": [],
   "source": [
    "# save qvuery to a DataFrame\n",
    "df = pd.read_sql(query, connection)"
   ]
  },
  {
   "cell_type": "code",
   "execution_count": 9,
   "id": "277ed5af",
   "metadata": {},
   "outputs": [
    {
     "data": {
      "text/html": [
       "<div>\n",
       "<style scoped>\n",
       "    .dataframe tbody tr th:only-of-type {\n",
       "        vertical-align: middle;\n",
       "    }\n",
       "\n",
       "    .dataframe tbody tr th {\n",
       "        vertical-align: top;\n",
       "    }\n",
       "\n",
       "    .dataframe thead th {\n",
       "        text-align: right;\n",
       "    }\n",
       "</style>\n",
       "<table border=\"1\" class=\"dataframe\">\n",
       "  <thead>\n",
       "    <tr style=\"text-align: right;\">\n",
       "      <th></th>\n",
       "      <th>LastName</th>\n",
       "      <th>FirstName</th>\n",
       "      <th>Name</th>\n",
       "      <th>Title</th>\n",
       "    </tr>\n",
       "  </thead>\n",
       "  <tbody>\n",
       "    <tr>\n",
       "      <th>0</th>\n",
       "      <td>Almeida</td>\n",
       "      <td>Roberto</td>\n",
       "      <td>Right Next Door to Hell</td>\n",
       "      <td>Use Your Illusion I</td>\n",
       "    </tr>\n",
       "    <tr>\n",
       "      <th>1</th>\n",
       "      <td>Almeida</td>\n",
       "      <td>Roberto</td>\n",
       "      <td>In The Evening</td>\n",
       "      <td>In Through The Out Door</td>\n",
       "    </tr>\n",
       "    <tr>\n",
       "      <th>2</th>\n",
       "      <td>Almeida</td>\n",
       "      <td>Roberto</td>\n",
       "      <td>Fool In The Rain</td>\n",
       "      <td>In Through The Out Door</td>\n",
       "    </tr>\n",
       "    <tr>\n",
       "      <th>3</th>\n",
       "      <td>Almeida</td>\n",
       "      <td>Roberto</td>\n",
       "      <td>Saudade Dos Aviões Da Panair (Conversando No Bar)</td>\n",
       "      <td>Minas</td>\n",
       "    </tr>\n",
       "    <tr>\n",
       "      <th>4</th>\n",
       "      <td>Almeida</td>\n",
       "      <td>Roberto</td>\n",
       "      <td>Caso Você Queira Saber</td>\n",
       "      <td>Minas</td>\n",
       "    </tr>\n",
       "    <tr>\n",
       "      <th>...</th>\n",
       "      <td>...</td>\n",
       "      <td>...</td>\n",
       "      <td>...</td>\n",
       "      <td>...</td>\n",
       "    </tr>\n",
       "    <tr>\n",
       "      <th>2235</th>\n",
       "      <td>Zimmermann</td>\n",
       "      <td>Fynn</td>\n",
       "      <td>Nothin' To Lose</td>\n",
       "      <td>Unplugged [Live]</td>\n",
       "    </tr>\n",
       "    <tr>\n",
       "      <th>2236</th>\n",
       "      <td>Zimmermann</td>\n",
       "      <td>Fynn</td>\n",
       "      <td>Since I've Been Loving You</td>\n",
       "      <td>BBC Sessions [Disc 2] [Live]</td>\n",
       "    </tr>\n",
       "    <tr>\n",
       "      <th>2237</th>\n",
       "      <td>Zimmermann</td>\n",
       "      <td>Fynn</td>\n",
       "      <td>Going To California</td>\n",
       "      <td>BBC Sessions [Disc 2] [Live]</td>\n",
       "    </tr>\n",
       "    <tr>\n",
       "      <th>2238</th>\n",
       "      <td>Zimmermann</td>\n",
       "      <td>Fynn</td>\n",
       "      <td>We're Gonna Groove</td>\n",
       "      <td>Coda</td>\n",
       "    </tr>\n",
       "    <tr>\n",
       "      <th>2239</th>\n",
       "      <td>Zimmermann</td>\n",
       "      <td>Fynn</td>\n",
       "      <td>Ozone Baby</td>\n",
       "      <td>Coda</td>\n",
       "    </tr>\n",
       "  </tbody>\n",
       "</table>\n",
       "<p>2240 rows × 4 columns</p>\n",
       "</div>"
      ],
      "text/plain": [
       "        LastName FirstName                                               Name  \\\n",
       "0        Almeida   Roberto                            Right Next Door to Hell   \n",
       "1        Almeida   Roberto                                     In The Evening   \n",
       "2        Almeida   Roberto                                   Fool In The Rain   \n",
       "3        Almeida   Roberto  Saudade Dos Aviões Da Panair (Conversando No Bar)   \n",
       "4        Almeida   Roberto                             Caso Você Queira Saber   \n",
       "...          ...       ...                                                ...   \n",
       "2235  Zimmermann      Fynn                                    Nothin' To Lose   \n",
       "2236  Zimmermann      Fynn                         Since I've Been Loving You   \n",
       "2237  Zimmermann      Fynn                                Going To California   \n",
       "2238  Zimmermann      Fynn                                 We're Gonna Groove   \n",
       "2239  Zimmermann      Fynn                                         Ozone Baby   \n",
       "\n",
       "                             Title  \n",
       "0              Use Your Illusion I  \n",
       "1          In Through The Out Door  \n",
       "2          In Through The Out Door  \n",
       "3                            Minas  \n",
       "4                            Minas  \n",
       "...                            ...  \n",
       "2235              Unplugged [Live]  \n",
       "2236  BBC Sessions [Disc 2] [Live]  \n",
       "2237  BBC Sessions [Disc 2] [Live]  \n",
       "2238                          Coda  \n",
       "2239                          Coda  \n",
       "\n",
       "[2240 rows x 4 columns]"
      ]
     },
     "execution_count": 9,
     "metadata": {},
     "output_type": "execute_result"
    }
   ],
   "source": [
    "# print DataFrame\n",
    "df"
   ]
  }
 ],
 "metadata": {
  "kernelspec": {
   "display_name": "Python 3",
   "language": "python",
   "name": "python3"
  },
  "language_info": {
   "codemirror_mode": {
    "name": "ipython",
    "version": 3
   },
   "file_extension": ".py",
   "mimetype": "text/x-python",
   "name": "python",
   "nbconvert_exporter": "python",
   "pygments_lexer": "ipython3",
   "version": "3.8.10"
  }
 },
 "nbformat": 4,
 "nbformat_minor": 5
}
